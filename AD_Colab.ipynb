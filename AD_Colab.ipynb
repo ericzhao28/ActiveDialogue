{
  "nbformat": 4,
  "nbformat_minor": 0,
  "metadata": {
    "colab": {
      "name": "AD: Colab",
      "provenance": [],
      "collapsed_sections": [],
      "machine_shape": "hm",
      "mount_file_id": "https://gist.github.com/ericzhao28/da9004a01e8b1bf96546c75bdf2cdcf2#file-untitled0-ipynb",
      "authorship_tag": "ABX9TyOKa5HN/mG0tWXKTronrRWZ",
      "include_colab_link": true
    },
    "kernelspec": {
      "name": "python3",
      "display_name": "Python 3"
    },
    "accelerator": "GPU"
  },
  "cells": [
    {
      "cell_type": "markdown",
      "metadata": {
        "id": "view-in-github",
        "colab_type": "text"
      },
      "source": [
        "<a href=\"https://colab.research.google.com/github/ericzhao28/ActiveDialogue/blob/master/AD_Colab.ipynb\" target=\"_parent\"><img src=\"https://colab.research.google.com/assets/colab-badge.svg\" alt=\"Open In Colab\"/></a>"
      ]
    },
    {
      "cell_type": "code",
      "metadata": {
        "id": "RfysXS74pr-o",
        "colab_type": "code",
        "colab": {
          "base_uri": "https://localhost:8080/",
          "height": 123
        },
        "outputId": "f85dfe93-71d1-4970-e8ba-ce338f6723e6"
      },
      "source": [
        "from google.colab import drive\n",
        "drive.mount('/content/gdrive')"
      ],
      "execution_count": 7,
      "outputs": [
        {
          "output_type": "stream",
          "text": [
            "Go to this URL in a browser: https://accounts.google.com/o/oauth2/auth?client_id=947318989803-6bn6qk8qdgf4n4g3pfee6491hc0brc4i.apps.googleusercontent.com&redirect_uri=urn%3aietf%3awg%3aoauth%3a2.0%3aoob&response_type=code&scope=email%20https%3a%2f%2fwww.googleapis.com%2fauth%2fdocs.test%20https%3a%2f%2fwww.googleapis.com%2fauth%2fdrive%20https%3a%2f%2fwww.googleapis.com%2fauth%2fdrive.photos.readonly%20https%3a%2f%2fwww.googleapis.com%2fauth%2fpeopleapi.readonly\n",
            "\n",
            "Enter your authorization code:\n",
            "··········\n",
            "Mounted at /content/gdrive\n"
          ],
          "name": "stdout"
        }
      ]
    },
    {
      "cell_type": "code",
      "metadata": {
        "id": "MjHSaW1rjzoa",
        "colab_type": "code",
        "colab": {}
      },
      "source": [
        "gpu_info = !nvidia-smi\n",
        "gpu_info = '\\n'.join(gpu_info)\n",
        "if gpu_info.find('failed') >= 0:\n",
        "  print('Select the Runtime → \"Change runtime type\" menu to enable a GPU accelerator, ')\n",
        "  print('and then re-execute this cell.')\n",
        "else:\n",
        "  print(gpu_info)"
      ],
      "execution_count": 0,
      "outputs": []
    },
    {
      "cell_type": "code",
      "metadata": {
        "id": "WiQ1uD1-j27p",
        "colab_type": "code",
        "colab": {}
      },
      "source": [
        "from psutil import virtual_memory\n",
        "ram_gb = virtual_memory().total / 1e9\n",
        "print('Your runtime has {:.1f} gigabytes of available RAM\\n'.format(ram_gb))\n",
        "\n",
        "if ram_gb < 20:\n",
        "  print('To enable a high-RAM runtime, select the Runtime → \"Change runtime type\"')\n",
        "  print('menu, and then select High-RAM in the Runtime shape dropdown. Then, ')\n",
        "  print('re-execute this cell.')\n",
        "else:\n",
        "  print('You are using a high-RAM runtime!')"
      ],
      "execution_count": 0,
      "outputs": []
    },
    {
      "cell_type": "code",
      "metadata": {
        "id": "Ox0biPJd5-n6",
        "colab_type": "code",
        "colab": {}
      },
      "source": [
        "%%capture\n",
        "pip install stanza==0.3 stanford-corenlp comet-ml vocab==0.0.3"
      ],
      "execution_count": 0,
      "outputs": []
    },
    {
      "cell_type": "code",
      "metadata": {
        "id": "Iaum6HuJ5rYP",
        "colab_type": "code",
        "colab": {}
      },
      "source": [
        "%%capture\n",
        "import stanza\n",
        "stanza.download('en')"
      ],
      "execution_count": 0,
      "outputs": []
    },
    {
      "cell_type": "code",
      "metadata": {
        "id": "86DVG7ADga7i",
        "colab_type": "code",
        "colab": {}
      },
      "source": [
        "%%capture\n",
        "!git clone https://github.com/ericzhao28/ActiveDialogue\n",
        "%cd ActiveDialogue\n",
        "!bash setup.sh"
      ],
      "execution_count": 0,
      "outputs": []
    },
    {
      "cell_type": "code",
      "metadata": {
        "id": "8sG6kFZXoaJ5",
        "colab_type": "code",
        "colab": {}
      },
      "source": [
        "!git pull"
      ],
      "execution_count": 0,
      "outputs": []
    },
    {
      "cell_type": "code",
      "metadata": {
        "id": "4jJEdgNrrXv2",
        "colab_type": "code",
        "colab": {}
      },
      "source": [
        "shared = \"\"\"\n",
        "        --device 0 \\\n",
        "        --seed 2 \\\n",
        "        --nickname colab \\\n",
        "        --dexp '/content/gdrive/My Drive/Colab Notebooks/exp' \\\n",
        "        \"\"\""
      ],
      "execution_count": 0,
      "outputs": []
    },
    {
      "cell_type": "code",
      "metadata": {
        "id": "IfvCVzXloaXH",
        "colab_type": "code",
        "colab": {}
      },
      "source": [
        "from ActiveDialogue.main.seed import main\n",
        "\n",
        "main(\"\"\"\n",
        "     --lr 0.003 \\\n",
        "     --seed_epochs 100 \\\n",
        "     --model glad \\\n",
        "     \"\"\" + shared)"
      ],
      "execution_count": 0,
      "outputs": []
    },
    {
      "cell_type": "code",
      "metadata": {
        "id": "-hpdXipnokNe",
        "colab_type": "code",
        "colab": {}
      },
      "source": [
        "from ActiveDialogue.main.vanilla import main"
      ],
      "execution_count": 0,
      "outputs": []
    },
    {
      "cell_type": "code",
      "metadata": {
        "id": "n29hiG_VoknG",
        "colab_type": "code",
        "colab": {}
      },
      "source": [
        "main(\"--strategy bald --init_threshold 0.4 --model glad\" + shared)"
      ],
      "execution_count": 0,
      "outputs": []
    },
    {
      "cell_type": "code",
      "metadata": {
        "id": "4mOd1upDrjZz",
        "colab_type": "code",
        "colab": {}
      },
      "source": [
        "main(\"--strategy entropy --init_threshold 10.0 --model glad\" + shared)"
      ],
      "execution_count": 0,
      "outputs": []
    },
    {
      "cell_type": "code",
      "metadata": {
        "id": "f0xLdLvUrl9t",
        "colab_type": "code",
        "colab": {}
      },
      "source": [
        "main(\"--strategy aggressive --model glad\" + shared)"
      ],
      "execution_count": 0,
      "outputs": []
    },
    {
      "cell_type": "code",
      "metadata": {
        "id": "7XiK0x8urmH6",
        "colab_type": "code",
        "colab": {}
      },
      "source": [
        "main(\"--strategy passive --model glad\" + shared)"
      ],
      "execution_count": 0,
      "outputs": []
    },
    {
      "cell_type": "code",
      "metadata": {
        "id": "1q9_pPjvhsqh",
        "colab_type": "code",
        "colab": {}
      },
      "source": [
        "!python3 vanilla_runner.py"
      ],
      "execution_count": 0,
      "outputs": []
    },
    {
      "cell_type": "code",
      "metadata": {
        "id": "nEI5hUrijUuh",
        "colab_type": "code",
        "colab": {}
      },
      "source": [
        ""
      ],
      "execution_count": 0,
      "outputs": []
    }
  ]
}